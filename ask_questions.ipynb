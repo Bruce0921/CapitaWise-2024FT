{
 "cells": [
  {
   "cell_type": "code",
   "execution_count": 2,
   "id": "c9a6f661-b45a-4aa8-a815-0987afc5e618",
   "metadata": {},
   "outputs": [],
   "source": [
    "import pandas as pd\n",
    "import os\n",
    "from openai import OpenAI\n",
    "import openai\n",
    "\n",
    "client = OpenAI(\n",
    "    api_key=\"\" # OPENAI_API_KEY\n",
    ")"
   ]
  },
  {
   "cell_type": "code",
   "execution_count": null,
   "id": "8b5edf58-5509-4987-bb2a-5f9f7b63c1d4",
   "metadata": {},
   "outputs": [],
   "source": []
  },
  {
   "cell_type": "code",
   "execution_count": 31,
   "id": "417f5447-420c-4809-bc29-df1ad495b8a8",
   "metadata": {},
   "outputs": [],
   "source": [
    "def remove_newlines(serie):\n",
    "    serie = serie.str.replace('\\n', ' ')\n",
    "    # serie = serie.str.replace('\\\\n', ' ')\n",
    "    serie = serie.str.replace('  ', ' ')\n",
    "    serie = serie.str.replace('  ', ' ')\n",
    "    return serie"
   ]
  },
  {
   "cell_type": "code",
   "execution_count": 32,
   "id": "71dee2fc-c3e7-4e7b-b695-d9d45274479f",
   "metadata": {},
   "outputs": [
    {
     "data": {
      "text/html": [
       "<div>\n",
       "<style scoped>\n",
       "    .dataframe tbody tr th:only-of-type {\n",
       "        vertical-align: middle;\n",
       "    }\n",
       "\n",
       "    .dataframe tbody tr th {\n",
       "        vertical-align: top;\n",
       "    }\n",
       "\n",
       "    .dataframe thead th {\n",
       "        text-align: right;\n",
       "    }\n",
       "</style>\n",
       "<table border=\"1\" class=\"dataframe\">\n",
       "  <thead>\n",
       "    <tr style=\"text-align: right;\">\n",
       "      <th></th>\n",
       "      <th>fname</th>\n",
       "      <th>text</th>\n",
       "    </tr>\n",
       "  </thead>\n",
       "  <tbody>\n",
       "    <tr>\n",
       "      <th>0</th>\n",
       "      <td>s digital customer service helpful tips online...</td>\n",
       "      <td>s digital customer service helpful tips online...</td>\n",
       "    </tr>\n",
       "    <tr>\n",
       "      <th>1</th>\n",
       "      <td>ersonal banking education basics is mobile ban...</td>\n",
       "      <td>ersonal banking education basics is mobile ban...</td>\n",
       "    </tr>\n",
       "    <tr>\n",
       "      <th>2</th>\n",
       "      <td>ersonal savings savings account</td>\n",
       "      <td>ersonal savings savings account.        Chase ...</td>\n",
       "    </tr>\n",
       "    <tr>\n",
       "      <th>3</th>\n",
       "      <td>s digital customer service helpful tips person...</td>\n",
       "      <td>s digital customer service helpful tips person...</td>\n",
       "    </tr>\n",
       "    <tr>\n",
       "      <th>4</th>\n",
       "      <td>el:1 877 399 9111</td>\n",
       "      <td>el:1 877 399 9111.           404  Please turn ...</td>\n",
       "    </tr>\n",
       "  </tbody>\n",
       "</table>\n",
       "</div>"
      ],
      "text/plain": [
       "                                               fname  \\\n",
       "0  s digital customer service helpful tips online...   \n",
       "1  ersonal banking education basics is mobile ban...   \n",
       "2                    ersonal savings savings account   \n",
       "3  s digital customer service helpful tips person...   \n",
       "4                                  el:1 877 399 9111   \n",
       "\n",
       "                                                text  \n",
       "0  s digital customer service helpful tips online...  \n",
       "1  ersonal banking education basics is mobile ban...  \n",
       "2  ersonal savings savings account.        Chase ...  \n",
       "3  s digital customer service helpful tips person...  \n",
       "4  el:1 877 399 9111.           404  Please turn ...  "
      ]
     },
     "execution_count": 32,
     "metadata": {},
     "output_type": "execute_result"
    }
   ],
   "source": [
    "\n",
    "# Create a list to store the text files\n",
    "texts=[]\n",
    "\n",
    "domain = 'chase.com'\n",
    "# Get all the text files in the text directory\n",
    "for file in os.listdir(\"text/\" + domain + \"/\"):\n",
    "\n",
    "    # Open the file and read the text\n",
    "    with open(\"text/\" + domain + \"/\" + file, \"r\", encoding=\"UTF-8\") as f:\n",
    "        text = f.read()\n",
    "\n",
    "        # Omit the first 11 lines and the last 4 lines, then replace -, _, and #update with spaces.\n",
    "        texts.append((file[11:-4].replace('-',' ').replace('_', ' ').replace('#update',''), text))\n",
    "\n",
    "# Create a dataframe from the list of texts\n",
    "df = pd.DataFrame(texts, columns = ['fname', 'text'])\n",
    "\n",
    "# Set the text column to be the raw text with the newlines removed\n",
    "df['text'] = df.fname + \". \" + remove_newlines(df.text)\n",
    "df.to_csv('processed/scraped.csv', escapechar='\\\\')\n",
    "df.head()"
   ]
  },
  {
   "cell_type": "code",
   "execution_count": null,
   "id": "e27b6d46-4255-4292-a6e1-2c59b376cd3d",
   "metadata": {},
   "outputs": [],
   "source": []
  },
  {
   "cell_type": "code",
   "execution_count": 11,
   "id": "d58c9c0f-5819-432d-b8a6-d80f18e5fa1c",
   "metadata": {},
   "outputs": [
    {
     "data": {
      "text/html": [
       "<div>\n",
       "<style scoped>\n",
       "    .dataframe tbody tr th:only-of-type {\n",
       "        vertical-align: middle;\n",
       "    }\n",
       "\n",
       "    .dataframe tbody tr th {\n",
       "        vertical-align: top;\n",
       "    }\n",
       "\n",
       "    .dataframe thead th {\n",
       "        text-align: right;\n",
       "    }\n",
       "</style>\n",
       "<table border=\"1\" class=\"dataframe\">\n",
       "  <thead>\n",
       "    <tr style=\"text-align: right;\">\n",
       "      <th></th>\n",
       "      <th>text</th>\n",
       "      <th>n_tokens</th>\n",
       "      <th>embeddings</th>\n",
       "    </tr>\n",
       "  </thead>\n",
       "  <tbody>\n",
       "    <tr>\n",
       "      <th>0</th>\n",
       "      <td>chase.com es digital customer service helpful ...</td>\n",
       "      <td>428</td>\n",
       "      <td>[-0.03415273502469063, -0.0010539006907492876,...</td>\n",
       "    </tr>\n",
       "    <tr>\n",
       "      <th>1</th>\n",
       "      <td>Banca personal         Tarjetas de cré...</td>\n",
       "      <td>475</td>\n",
       "      <td>[-0.029211552813649178, 0.00502610532566905, 0...</td>\n",
       "    </tr>\n",
       "    <tr>\n",
       "      <th>2</th>\n",
       "      <td>Síguenos: Facebook Instagram X, anteriormente ...</td>\n",
       "      <td>497</td>\n",
       "      <td>[-0.030613889917731285, -0.002363001462072134,...</td>\n",
       "    </tr>\n",
       "    <tr>\n",
       "      <th>3</th>\n",
       "      <td>Inversiones por J.P. Morgan Ya sea que escojas...</td>\n",
       "      <td>499</td>\n",
       "      <td>[-0.01644776575267315, -0.020437059924006462, ...</td>\n",
       "    </tr>\n",
       "    <tr>\n",
       "      <th>4</th>\n",
       "      <td>Ve cómo nos dedicamos a ayudar a protegerte a ...</td>\n",
       "      <td>485</td>\n",
       "      <td>[-0.020626284182071686, -0.017504608258605003,...</td>\n",
       "    </tr>\n",
       "  </tbody>\n",
       "</table>\n",
       "</div>"
      ],
      "text/plain": [
       "                                                text  n_tokens  \\\n",
       "0  chase.com es digital customer service helpful ...       428   \n",
       "1          Banca personal         Tarjetas de cré...       475   \n",
       "2  Síguenos: Facebook Instagram X, anteriormente ...       497   \n",
       "3  Inversiones por J.P. Morgan Ya sea que escojas...       499   \n",
       "4  Ve cómo nos dedicamos a ayudar a protegerte a ...       485   \n",
       "\n",
       "                                          embeddings  \n",
       "0  [-0.03415273502469063, -0.0010539006907492876,...  \n",
       "1  [-0.029211552813649178, 0.00502610532566905, 0...  \n",
       "2  [-0.030613889917731285, -0.002363001462072134,...  \n",
       "3  [-0.01644776575267315, -0.020437059924006462, ...  \n",
       "4  [-0.020626284182071686, -0.017504608258605003,...  "
      ]
     },
     "execution_count": 11,
     "metadata": {},
     "output_type": "execute_result"
    }
   ],
   "source": [
    "import numpy as np\n",
    "# from openai.embeddings_utils import distances_from_embeddings\n",
    "\n",
    "df=pd.read_csv('processed/embeddings.csv', index_col=0)\n",
    "df['embeddings'] = df['embeddings'].apply(eval).apply(np.array)\n",
    "\n",
    "df.head()"
   ]
  },
  {
   "cell_type": "code",
   "execution_count": 12,
   "id": "45c1dd93-768f-40d7-bf0d-93eb8c5ad057",
   "metadata": {},
   "outputs": [],
   "source": [
    "from typing import List, Optional\n",
    "from scipy import spatial\n",
    "\n",
    "def distances_from_embeddings(\n",
    "    query_embedding: List[float],\n",
    "    embeddings: List[List[float]],\n",
    "    distance_metric=\"cosine\",\n",
    ") -> List[List]:\n",
    "    distance_metrics = {\n",
    "        \"cosine\": spatial.distance.cosine,\n",
    "        \"L1\": spatial.distance.cityblock,\n",
    "        \"L2\": spatial.distance.euclidean,\n",
    "        \"Linf\": spatial.distance.chebyshev,\n",
    "    }\n",
    "    distances = [\n",
    "        distance_metrics[distance_metric](query_embedding, embedding)\n",
    "        for embedding in embeddings\n",
    "    ]\n",
    "    return distances"
   ]
  },
  {
   "cell_type": "code",
   "execution_count": 22,
   "id": "7afe53f4-eb95-43d6-bc1c-311c7f141cdc",
   "metadata": {},
   "outputs": [],
   "source": [
    "def create_context(\n",
    "    question, df, max_len=1800, size=\"ada\"\n",
    "):\n",
    "    \"\"\"\n",
    "    Create a context for a question by finding the most similar context from the dataframe\n",
    "    \"\"\"\n",
    "\n",
    "    # Get the embeddings for the question\n",
    "    q_embeddings = client.embeddings.create(input=question, model='text-embedding-ada-002').data[0].embedding\n",
    "\n",
    "    # Get the distances from the embeddings\n",
    "    df['distances'] = distances_from_embeddings(q_embeddings, df['embeddings'].values, distance_metric='cosine')\n",
    "\n",
    "\n",
    "    returns = []\n",
    "    cur_len = 0\n",
    "\n",
    "    # Sort by distance and add the text to the context until the context is too long\n",
    "    for i, row in df.sort_values('distances', ascending=True).iterrows():\n",
    "\n",
    "        # Add the length of the text to the current length\n",
    "        cur_len += row['n_tokens'] + 4\n",
    "\n",
    "        # If the context is too long, break\n",
    "        if cur_len > max_len:\n",
    "            break\n",
    "\n",
    "        # Else add it to the text that is being returned\n",
    "        returns.append(row[\"text\"])\n",
    "\n",
    "    # Return the context\n",
    "    return \"\\n\\n###\\n\\n\".join(returns)"
   ]
  },
  {
   "cell_type": "code",
   "execution_count": 55,
   "id": "e60bc35b-7e39-41f6-bc2a-82f982f904b5",
   "metadata": {},
   "outputs": [],
   "source": [
    "prompt = '''\n",
    "You are a highly knowledgeable and friendly chatbot designed to assist customers with their needs at Chase Bank. You have access to comprehensive information from over 1200 Chase Bank websites. Your primary goal is to provide accurate, helpful, and concise responses to user inquiries regarding Chase Bank's products and services. You should always strive to be clear, informative, and user-friendly in your responses.\n",
    "\n",
    "For each response, if applicable, provide relevant website links to the Chase Bank pages where the information is sourced from, ensuring that users can verify the information and explore further details if they wish. Whether it's helping a customer understand how to cash a check, apply for a credit card, manage their account, or get information on various banking services, you are equipped to guide them efficiently with precise and actionable information.\n",
    "\n",
    "Your response should include the following:\n",
    "1. A clear and concise answer to the user's query.\n",
    "2. Any relevant steps or instructions they need to follow.\n",
    "3. Links to the Chase Bank website or specific pages where the information can be verified or further explored.\n",
    "4. A friendly and professional tone throughout the interaction.\n",
    "'''"
   ]
  },
  {
   "cell_type": "code",
   "execution_count": 74,
   "id": "23333c6e-fc11-4293-87d7-3d70de9dc68c",
   "metadata": {},
   "outputs": [],
   "source": [
    "def answer_question(\n",
    "    df,\n",
    "    model=\"gpt-4o\",\n",
    "    conversation_history = [],\n",
    "    question=\"Am I allowed to publish model outputs to Twitter, without a human review?\",\n",
    "    max_len=1800,\n",
    "    size=\"ada\",\n",
    "    debug=False,\n",
    "    max_tokens=500,\n",
    "    stop_sequence=None\n",
    "):\n",
    "    \"\"\"\n",
    "    Answer a question based on the most similar context from the dataframe texts\n",
    "    \"\"\"\n",
    "    context = create_context(\n",
    "        question,\n",
    "        df,\n",
    "        max_len=max_len,\n",
    "        size=size,\n",
    "    )\n",
    "    # If debug, print the raw model response\n",
    "    if debug:\n",
    "        print(\"Context:\\n\" + context)\n",
    "        print(\"\\n\\n\")\n",
    "\n",
    "    try:\n",
    "        \n",
    "        messages = conversation_history + [\n",
    "            {\"role\": \"system\", \"content\": f\"{prompt}\"},\n",
    "            {\"role\": \"user\", \"content\": f\"Context: {context}\\n\\n---\\n\\nQuestion: {question}\\nAnswer:\"}\n",
    "        ]\n",
    "        \n",
    "        # Create a chat completion using the question and context\n",
    "        response = client.chat.completions.create(\n",
    "            model=\"gpt-4o\",\n",
    "            messages= messages,\n",
    "            temperature=0,\n",
    "            max_tokens=max_tokens,\n",
    "            top_p=1,\n",
    "            frequency_penalty=0,\n",
    "            presence_penalty=0,\n",
    "            stop=stop_sequence,\n",
    "        )\n",
    "        \n",
    "        # Extract the answer from the response\n",
    "        answer = response.choices[0].message.content\n",
    "\n",
    "        # Update conversation history\n",
    "        conversation_history.append({\"role\": \"user\", \"content\": question})\n",
    "        conversation_history.append({\"role\": \"assistant\", \"content\": answer})\n",
    "        \n",
    "        return answer\n",
    "    except Exception as e:\n",
    "        print(e)\n",
    "        return \"\""
   ]
  },
  {
   "cell_type": "code",
   "execution_count": 75,
   "id": "c8c6262e-2265-4e5f-9f45-20bb69535b1f",
   "metadata": {},
   "outputs": [
    {
     "data": {
      "text/plain": [
       "\"Yes, Chase Bank offers a variety of investment plans tailored to meet different financial goals and needs. Here are some key options you can consider:\\n\\n1. **Wealth Plan Tool**: This tool provides a comprehensive view of your current financial situation and helps you prioritize your goals. It can assist you in planning for retirement, saving for college, or building a lasting legacy.\\n\\n2. **Retirement Planning**: Whether you are looking forward to more family time, travel, or pursuing your passions, Chase can help you prepare for retirement. Learn more about retirement planning [here](https://www.chase.com/personal/investments/retirement).\\n\\n3. **Education Planning**: From 529 plans to financial aid, Chase can help you understand the best saving and investment opportunities for your family’s education needs. Learn more about education planning [here](https://www.chase.com/personal/investments/education).\\n\\n4. **Sustainable Investing**: If you want to align your portfolio with your principles, Chase offers sustainable investing opportunities that support your priorities. Learn more about sustainable investing [here](https://www.chase.com/personal/investments/sustainable-investing).\\n\\n5. **Self-Directed Investing**: If you prefer to manage your investments on your own, Chase offers unlimited $0 commission online trades for U.S.-listed stocks, ETFs, and options. Learn more about self-directed investing [here](https://www.chase.com/personal/investments/self-directed-investing).\\n\\n6. **Advisory Services**: If you prefer professional guidance, you can work with a Personal Advisor or a Private Client Advisor to develop a custom strategy based on your unique needs and risk tolerance. Learn more about advisory services [here](https://www.chase.com/personal/investments/advisory-services).\\n\\nTo get started, you can visit the [Chase Investment Planning page](https://www.chase.com/personal/investments) and explore the various options available. If you need personalized advice, consider scheduling a consultation with one of Chase's financial advisors.\\n\\nFeel free to reach out if you have any more questions or need further assistance!\""
      ]
     },
     "execution_count": 75,
     "metadata": {},
     "output_type": "execute_result"
    }
   ],
   "source": [
    "# answer_question(df, question=\"What day is it?\", debug=False)\n",
    "\n",
    "# answer_question(df, question=\"What is our newest embeddings model?\")\n",
    "\n",
    "answer_question(df, question=\"Do you have any investment plan for me?\")"
   ]
  },
  {
   "cell_type": "code",
   "execution_count": null,
   "id": "b6c8b5d0-afea-4ae2-9b2b-712ee0125b78",
   "metadata": {},
   "outputs": [],
   "source": []
  },
  {
   "cell_type": "code",
   "execution_count": null,
   "id": "8f75110b-b23d-4e1f-aaeb-f6a8220d4155",
   "metadata": {},
   "outputs": [],
   "source": []
  },
  {
   "cell_type": "code",
   "execution_count": 90,
   "id": "62a8ee2e-f77d-4d5e-b37f-17bbb921fe00",
   "metadata": {},
   "outputs": [
    {
     "name": "stdout",
     "output_type": "stream",
     "text": [
      "A credit card and a debit card are both payment methods that allow you to make purchases, but they operate differently and have distinct features. Here are the key differences:\n",
      "\n",
      "### Credit Card:\n",
      "1. **Borrowed Funds**: When you use a credit card, you are borrowing money from the card issuer up to a certain limit. You will need to pay back this amount, usually with interest if not paid in full by the due date.\n",
      "2. **Credit Score Impact**: Using a credit card responsibly can help build your credit score. Late payments or high balances can negatively impact your credit score.\n",
      "3. **Rewards and Perks**: Many credit cards offer rewards such as cash back, travel points, or other perks.\n",
      "4. **Interest and Fees**: If you do not pay off your balance in full each month, you will incur interest charges. There may also be annual fees, late payment fees, and other charges.\n",
      "5. **Fraud Protection**: Credit cards generally offer strong fraud protection, and you are typically not liable for unauthorized charges.\n",
      "\n",
      "### Debit Card:\n",
      "1. **Own Funds**: When you use a debit card, the money is directly withdrawn from your checking account. You are using your own funds, not borrowing.\n",
      "2. **No Impact on Credit Score**: Using a debit card does not affect your credit score since you are not borrowing money.\n",
      "3. **Limited Rewards**: Debit cards usually do not offer the same level of rewards or perks as credit cards.\n",
      "4. **No Interest**: Since you are using your own money, there are no interest charges. However, there may be overdraft fees if you spend more than what is in your account.\n",
      "5. **Fraud Protection**: Debit cards also offer fraud protection, but the process to recover funds can be slower compared to credit cards.\n",
      "\n",
      "For more detailed information, you can visit the Chase Bank website:\n",
      "- [Credit Cards](https://www.chase.com/personal/credit-cards)\n",
      "- [Debit Cards](https://www.chase.com/personal/checking/debit-cards)\n",
      "\n",
      "If you have any more questions or need further assistance, feel free to ask!\n"
     ]
    }
   ],
   "source": [
    "# Example usage\n",
    "conversation_history = []\n",
    "question = \"what is the difference between a credit card and a debit card\"\n",
    "\n",
    "# First question\n",
    "answer = answer_question(df, question = question, conversation_history = conversation_history)\n",
    "print(answer)"
   ]
  },
  {
   "cell_type": "code",
   "execution_count": 91,
   "id": "56099d7f-689b-44fb-9723-7581cf5ef526",
   "metadata": {},
   "outputs": [
    {
     "name": "stdout",
     "output_type": "stream",
     "text": [
      "You asked about the difference between a credit card and a debit card. Here is a summary of the key differences:\n",
      "\n",
      "### Credit Card:\n",
      "1. **Borrowed Funds**: Uses borrowed money from the card issuer.\n",
      "2. **Credit Score Impact**: Affects your credit score.\n",
      "3. **Rewards and Perks**: Often offers rewards like cash back or travel points.\n",
      "4. **Interest and Fees**: May incur interest and fees if not paid in full.\n",
      "5. **Fraud Protection**: Generally offers strong fraud protection.\n",
      "\n",
      "### Debit Card:\n",
      "1. **Own Funds**: Uses money directly from your checking account.\n",
      "2. **No Impact on Credit Score**: Does not affect your credit score.\n",
      "3. **Limited Rewards**: Usually offers fewer rewards.\n",
      "4. **No Interest**: No interest charges, but may have overdraft fees.\n",
      "5. **Fraud Protection**: Offers fraud protection, but recovery may be slower.\n",
      "\n",
      "For more detailed information, you can visit the Chase Bank website:\n",
      "- [Credit Cards](https://www.chase.com/personal/credit-cards)\n",
      "- [Debit Cards](https://www.chase.com/personal/checking/debit-cards)\n",
      "\n",
      "If you have any more questions or need further assistance, feel free to ask!\n"
     ]
    }
   ],
   "source": [
    "# Next question\n",
    "question = \"What was the question i just asked you?\"\n",
    "answer = answer_question(df, question = question, conversation_history = conversation_history)\n",
    "print(answer)"
   ]
  },
  {
   "cell_type": "code",
   "execution_count": 92,
   "id": "253ea662-ff76-4069-babc-ebc3029283a9",
   "metadata": {},
   "outputs": [
    {
     "data": {
      "text/plain": [
       "[{'role': 'user',\n",
       "  'content': 'what is the difference between a credit card and a debit card'},\n",
       " {'role': 'assistant',\n",
       "  'content': 'A credit card and a debit card are both payment methods that allow you to make purchases, but they operate differently and have distinct features. Here are the key differences:\\n\\n### Credit Card:\\n1. **Borrowed Funds**: When you use a credit card, you are borrowing money from the card issuer up to a certain limit. You will need to pay back this amount, usually with interest if not paid in full by the due date.\\n2. **Credit Score Impact**: Using a credit card responsibly can help build your credit score. Late payments or high balances can negatively impact your credit score.\\n3. **Rewards and Perks**: Many credit cards offer rewards such as cash back, travel points, or other perks.\\n4. **Interest and Fees**: If you do not pay off your balance in full each month, you will incur interest charges. There may also be annual fees, late payment fees, and other charges.\\n5. **Fraud Protection**: Credit cards generally offer strong fraud protection, and you are typically not liable for unauthorized charges.\\n\\n### Debit Card:\\n1. **Own Funds**: When you use a debit card, the money is directly withdrawn from your checking account. You are using your own funds, not borrowing.\\n2. **No Impact on Credit Score**: Using a debit card does not affect your credit score since you are not borrowing money.\\n3. **Limited Rewards**: Debit cards usually do not offer the same level of rewards or perks as credit cards.\\n4. **No Interest**: Since you are using your own money, there are no interest charges. However, there may be overdraft fees if you spend more than what is in your account.\\n5. **Fraud Protection**: Debit cards also offer fraud protection, but the process to recover funds can be slower compared to credit cards.\\n\\nFor more detailed information, you can visit the Chase Bank website:\\n- [Credit Cards](https://www.chase.com/personal/credit-cards)\\n- [Debit Cards](https://www.chase.com/personal/checking/debit-cards)\\n\\nIf you have any more questions or need further assistance, feel free to ask!'},\n",
       " {'role': 'user', 'content': 'What was the question i just asked you?'},\n",
       " {'role': 'assistant',\n",
       "  'content': 'You asked about the difference between a credit card and a debit card. Here is a summary of the key differences:\\n\\n### Credit Card:\\n1. **Borrowed Funds**: Uses borrowed money from the card issuer.\\n2. **Credit Score Impact**: Affects your credit score.\\n3. **Rewards and Perks**: Often offers rewards like cash back or travel points.\\n4. **Interest and Fees**: May incur interest and fees if not paid in full.\\n5. **Fraud Protection**: Generally offers strong fraud protection.\\n\\n### Debit Card:\\n1. **Own Funds**: Uses money directly from your checking account.\\n2. **No Impact on Credit Score**: Does not affect your credit score.\\n3. **Limited Rewards**: Usually offers fewer rewards.\\n4. **No Interest**: No interest charges, but may have overdraft fees.\\n5. **Fraud Protection**: Offers fraud protection, but recovery may be slower.\\n\\nFor more detailed information, you can visit the Chase Bank website:\\n- [Credit Cards](https://www.chase.com/personal/credit-cards)\\n- [Debit Cards](https://www.chase.com/personal/checking/debit-cards)\\n\\nIf you have any more questions or need further assistance, feel free to ask!'}]"
      ]
     },
     "execution_count": 92,
     "metadata": {},
     "output_type": "execute_result"
    }
   ],
   "source": [
    "conversation_history"
   ]
  },
  {
   "cell_type": "code",
   "execution_count": null,
   "id": "482d7b40-6718-4f86-a686-d3c1850da47b",
   "metadata": {},
   "outputs": [],
   "source": []
  }
 ],
 "metadata": {
  "kernelspec": {
   "display_name": "Python 3 (ipykernel)",
   "language": "python",
   "name": "python3"
  },
  "language_info": {
   "codemirror_mode": {
    "name": "ipython",
    "version": 3
   },
   "file_extension": ".py",
   "mimetype": "text/x-python",
   "name": "python",
   "nbconvert_exporter": "python",
   "pygments_lexer": "ipython3",
   "version": "3.10.9"
  }
 },
 "nbformat": 4,
 "nbformat_minor": 5
}
